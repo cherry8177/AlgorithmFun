{
 "cells": [
  {
   "cell_type": "markdown",
   "metadata": {},
   "source": [
    "## Super washing machine\n",
    "You have n super washing machines on a line. Initially, each washing machine has some dresses or is empty.\n",
    "\n",
    "For each move, you could choose any m (1 ≤ m ≤ n) washing machines, and pass one dress of each washing machine to one of its adjacent washing machines at the same time .\n",
    "\n",
    "Given an integer array representing the number of dresses in each washing machine from left to right on the line, you should find the minimum number of moves to make all the washing machines have the same number of dresses. If it is not possible to do it, return -1"
   ]
  },
  {
   "cell_type": "code",
   "execution_count": 45,
   "metadata": {
    "collapsed": true
   },
   "outputs": [],
   "source": [
    "array=[0,2,7,8,4,3]"
   ]
  },
  {
   "cell_type": "code",
   "execution_count": 138,
   "metadata": {
    "collapsed": true,
    "scrolled": true
   },
   "outputs": [],
   "source": [
    "# find the min flux for one array\n",
    "def find_min_cut(array):\n",
    "    n=len(array)\n",
    "    import numpy as np\n",
    "    array=np.array(array)\n",
    "    total_move=0\n",
    "    if n==1 or n==0:\n",
    "        print('done_done!')\n",
    "        return array\n",
    "    \n",
    "    if sum(array)%n:\n",
    "        print('It is impossible!')\n",
    "    else: \n",
    "        m=sum(array)/n\n",
    "        final_sum=[]\n",
    "        final_sum_split=0\n",
    "        for i in range(n):\n",
    "            final_sum_split +=m\n",
    "            final_sum.append(final_sum_split)\n",
    "\n",
    "        split_sum=0\n",
    "        first_split=[]\n",
    "        for i in range(n):\n",
    "            split_sum+= array[i]\n",
    "            first_split.append(split_sum)\n",
    "\n",
    "        print (first_split,final_sum)\n",
    "\n",
    "        diff_array= [i - k for i, k in zip(first_split, final_sum)]\n",
    "        print(diff_array)\n",
    "\n",
    "        import numpy as np\n",
    "        diff_array=np.array(diff_array)\n",
    "\n",
    "        if np.all(diff_array==0):\n",
    "            print('done_done')\n",
    "            return array\n",
    "        move_index=np.argmin(abs(diff_array[:-1]))\n",
    "        first_move= diff_array[move_index]\n",
    "\n",
    "        array[move_index]=array[move_index]-first_move\n",
    "\n",
    "        array[move_index +1]=array[move_index+1]+first_move\n",
    "\n",
    "        new_array1=array[:move_index+1]\n",
    "\n",
    "        new_array2=array[move_index+1:]\n",
    "\n",
    "        diff_array[:move_index+1]\n",
    "\n",
    "        print(first_move,new_array1,new_array2,diff_array[:move_index+1])\n",
    "\n",
    "        #total_move+= abs(diff_array[:-1])\n",
    "        return new_array1,new_array2,abs(first_move)\n"
   ]
  },
  {
   "cell_type": "code",
   "execution_count": 48,
   "metadata": {},
   "outputs": [
    {
     "name": "stdout",
     "output_type": "stream",
     "text": [
      "[0, 2, 9, 17, 21, 24] [4.0, 8.0, 12.0, 16.0, 20.0, 24.0]\n",
      "[-4.0, -6.0, -3.0, 1.0, 1.0, 0.0]\n",
      "1.0 [0 2 7 7] [5 3] [-4. -6. -3.  1.]\n"
     ]
    }
   ],
   "source": [
    "arr, _, _ = find_min_cut(array)"
   ]
  },
  {
   "cell_type": "code",
   "execution_count": 139,
   "metadata": {
    "collapsed": true
   },
   "outputs": [],
   "source": [
    "#find the min cut form all arrays and track the total number\n",
    "def find_min_cut_recursive(arr, x, move_No=0):\n",
    "    if len(arr)==x: #check if buckets are all even\n",
    "            return (move_No,arr)\n",
    "    \n",
    "    total_aar=[]\n",
    "    for array in arr:\n",
    "        n=len(array)\n",
    "        import numpy as np\n",
    "        array=np.array(array)\n",
    "        total_move=0\n",
    "        if sum(array)%n: #if it's dividable\n",
    "            print('It is impossible!')\n",
    "            return -1\n",
    "        if n==1 or n==0: #check if one bucket reach the minimal number\n",
    "            print('len_1_done_done!')\n",
    "            total_aar.append(array)\n",
    "            continue        \n",
    "         \n",
    "        m=sum(array)/n\n",
    "        final_sum=[] #calculate accumulative actual bucket number\n",
    "        final_sum_split=0\n",
    "        for i in range(n):\n",
    "            final_sum_split +=m\n",
    "            final_sum.append(final_sum_split)\n",
    "\n",
    "        split_sum=0 #calculate accumulative expected bucket number\n",
    "        first_split=[]\n",
    "        for i in range(n):\n",
    "            split_sum+= array[i]\n",
    "            first_split.append(split_sum)\n",
    "            \n",
    "        #calculate different expected value\n",
    "        diff_array= [i - k for i, k in zip(first_split, final_sum)]\n",
    "        import numpy as np\n",
    "        diff_array=np.array(diff_array)\n",
    "\n",
    "        if np.all(diff_array==0):\n",
    "            print('even_done_done')\n",
    "            total_aar.append(array)\n",
    "            continue\n",
    "        # find the min flux, make the difference and split into 2 arrays\n",
    "        move_index=np.argmin(abs(diff_array[:-1]))\n",
    "        first_move= diff_array[move_index]\n",
    "        \n",
    "        array[move_index]=array[move_index]-first_move\n",
    "        array[move_index +1]=array[move_index+1]+first_move\n",
    "\n",
    "        new_array1=array[:move_index+1]\n",
    "        total_aar.append(new_array1)\n",
    "\n",
    "        new_array2=array[move_index+1:]\n",
    "        total_aar.append(new_array2)\n",
    "\n",
    "        move_No+= abs(first_move)\n",
    "        print(\"total move:\", move_No)\n",
    "        print(\"this move:\",first_move)\n",
    "        print(new_array1,new_array2)\n",
    "        \n",
    "        if len(total_aar)==x:\n",
    "            print(move_No,total_aar)\n",
    "            break\n",
    "            #total_move+= abs(diff_array[:-1])\n",
    "    return find_min_cut_recursive(total_aar,x,move_No)\n"
   ]
  },
  {
   "cell_type": "code",
   "execution_count": null,
   "metadata": {
    "collapsed": true
   },
   "outputs": [],
   "source": []
  },
  {
   "cell_type": "code",
   "execution_count": 140,
   "metadata": {},
   "outputs": [
    {
     "name": "stdout",
     "output_type": "stream",
     "text": [
      "total move: 0.0\n",
      "this move: 0.0\n",
      "[8 0] [1 5 8 6 0]\n",
      "total move: 4.0\n",
      "this move: 4.0\n",
      "[4] [4]\n",
      "total move: 6.0\n",
      "this move: -2.0\n",
      "[1 7] [6 6 0]\n",
      "len_1_done_done!\n",
      "len_1_done_done!\n",
      "total move: 9.0\n",
      "this move: -3.0\n",
      "[4] [4]\n",
      "total move: 11.0\n",
      "this move: 2.0\n",
      "[4] [8 0]\n",
      "len_1_done_done!\n",
      "len_1_done_done!\n",
      "len_1_done_done!\n",
      "len_1_done_done!\n",
      "len_1_done_done!\n",
      "total move: 15.0\n",
      "this move: 4.0\n",
      "[4] [4]\n",
      "15.0 [array([4]), array([4]), array([4]), array([4]), array([4]), array([4]), array([4])]\n"
     ]
    },
    {
     "data": {
      "text/plain": [
       "(15.0,\n",
       " [array([4]),\n",
       "  array([4]),\n",
       "  array([4]),\n",
       "  array([4]),\n",
       "  array([4]),\n",
       "  array([4]),\n",
       "  array([4])])"
      ]
     },
     "execution_count": 140,
     "metadata": {},
     "output_type": "execute_result"
    }
   ],
   "source": [
    "find_min_cut_recursive([[8,0,1,5,8,6,0]], 7, move_No=0)"
   ]
  }
 ],
 "metadata": {
  "kernelspec": {
   "display_name": "Python 3",
   "language": "python",
   "name": "python3"
  },
  "language_info": {
   "codemirror_mode": {
    "name": "ipython",
    "version": 3
   },
   "file_extension": ".py",
   "mimetype": "text/x-python",
   "name": "python",
   "nbconvert_exporter": "python",
   "pygments_lexer": "ipython3",
   "version": "3.6.1"
  }
 },
 "nbformat": 4,
 "nbformat_minor": 2
}
