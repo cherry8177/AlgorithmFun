{
 "cells": [
  {
   "cell_type": "markdown",
   "metadata": {},
   "source": [
    "## Median of Two Sorted Arrays\n",
    "\n",
    "There are two sorted arrays nums1 and nums2 of size m and n respectively.\n",
    "\n",
    "Find the median of the two sorted arrays. The overall run time complexity should be O(log (m+n))."
   ]
  },
  {
   "cell_type": "markdown",
   "metadata": {},
   "source": [
    "### example1:\n",
    "nums1 = [1, 2]\n",
    "nums2 = [3, 4]\n",
    "\n",
    "The median is (2 + 3)/2 = 2.5"
   ]
  },
  {
   "cell_type": "markdown",
   "metadata": {},
   "source": [
    "### example2:\n",
    "\n",
    "nums1 = [1, 3]\n",
    "nums2 = [2]\n",
    "\n",
    "The median is 2.0"
   ]
  },
  {
   "cell_type": "code",
   "execution_count": 20,
   "metadata": {
    "collapsed": false
   },
   "outputs": [],
   "source": [
    "def isSorted(x):\n",
    "        for i in range (len(x)):\n",
    "            if x[i+1]>= x[i]:\n",
    "                i+=1\n",
    "                if i== len(x)-1:\n",
    "                    break\n",
    "            else:\n",
    "                return False  \n",
    "            return True\n",
    "    "
   ]
  },
  {
   "cell_type": "code",
   "execution_count": 39,
   "metadata": {
    "collapsed": true
   },
   "outputs": [],
   "source": [
    " def median(x):\n",
    "        n=len(x)\n",
    "        if len(x)%2 == 1:\n",
    "            return x[n//2]\n",
    "        else:\n",
    "            return (x[n//2-1]+x[n//2])/2"
   ]
  },
  {
   "cell_type": "code",
   "execution_count": 40,
   "metadata": {
    "collapsed": false
   },
   "outputs": [
    {
     "data": {
      "text/plain": [
       "4.0"
      ]
     },
     "execution_count": 40,
     "metadata": {},
     "output_type": "execute_result"
    }
   ],
   "source": [
    "median([1,3,5,9])"
   ]
  },
  {
   "cell_type": "code",
   "execution_count": 71,
   "metadata": {
    "collapsed": false
   },
   "outputs": [],
   "source": [
    "def binarySearch(x,y):\n",
    "    if isSorted(y):\n",
    "        \n",
    "        def xIsIny(x,y,k=0):\n",
    "            if x>=median(y):\n",
    "                n=len(y)\n",
    "                y=y[n//2:]\n",
    "                k=k+n//2\n",
    "            else:\n",
    "                n=len(y)\n",
    "                y=y[0:n//2]\n",
    "                k=k-n//2\n",
    "            print(x, y,k)   \n",
    "            if len(y)>1 :\n",
    "                return [x,y,k]\n",
    "                \n",
    "            else:\n",
    "                return False\n",
    "\n",
    "        while (xIsIny(x,y)):\n",
    "            \n",
    "            xIsIny(xIsIny(x,y))\n",
    "            \n",
    "        \n",
    "        return k\n",
    "    else:\n",
    "        return False\n",
    "        "
   ]
  },
  {
   "cell_type": "code",
   "execution_count": 72,
   "metadata": {
    "collapsed": false
   },
   "outputs": [
    {
     "name": "stdout",
     "output_type": "stream",
     "text": [
      "2 [3, 4, 6] 3\n",
      "2 [3, 4, 6] 3\n"
     ]
    },
    {
     "ename": "TypeError",
     "evalue": "xIsIny() missing 1 required positional argument: 'y'",
     "output_type": "error",
     "traceback": [
      "\u001b[0;31m---------------------------------------------------------------------------\u001b[0m",
      "\u001b[0;31mTypeError\u001b[0m                                 Traceback (most recent call last)",
      "\u001b[0;32m<ipython-input-72-81325efe064b>\u001b[0m in \u001b[0;36m<module>\u001b[0;34m()\u001b[0m\n\u001b[0;32m----> 1\u001b[0;31m \u001b[0mbinarySearch\u001b[0m\u001b[0;34m(\u001b[0m\u001b[0;36m2\u001b[0m\u001b[0;34m,\u001b[0m\u001b[0;34m[\u001b[0m\u001b[0;36m1\u001b[0m\u001b[0;34m,\u001b[0m\u001b[0;36m1\u001b[0m\u001b[0;34m,\u001b[0m\u001b[0;36m1\u001b[0m\u001b[0;34m,\u001b[0m\u001b[0;36m3\u001b[0m\u001b[0;34m,\u001b[0m\u001b[0;36m4\u001b[0m\u001b[0;34m,\u001b[0m\u001b[0;36m6\u001b[0m\u001b[0;34m]\u001b[0m\u001b[0;34m)\u001b[0m\u001b[0;34m\u001b[0m\u001b[0m\n\u001b[0m",
      "\u001b[0;32m<ipython-input-71-d955edeed50c>\u001b[0m in \u001b[0;36mbinarySearch\u001b[0;34m(x, y)\u001b[0m\n\u001b[1;32m     20\u001b[0m         \u001b[0;32mwhile\u001b[0m \u001b[0;34m(\u001b[0m\u001b[0mxIsIny\u001b[0m\u001b[0;34m(\u001b[0m\u001b[0mx\u001b[0m\u001b[0;34m,\u001b[0m\u001b[0my\u001b[0m\u001b[0;34m)\u001b[0m\u001b[0;34m)\u001b[0m\u001b[0;34m:\u001b[0m\u001b[0;34m\u001b[0m\u001b[0m\n\u001b[1;32m     21\u001b[0m \u001b[0;34m\u001b[0m\u001b[0m\n\u001b[0;32m---> 22\u001b[0;31m             \u001b[0mxIsIny\u001b[0m\u001b[0;34m(\u001b[0m\u001b[0mxIsIny\u001b[0m\u001b[0;34m(\u001b[0m\u001b[0mx\u001b[0m\u001b[0;34m,\u001b[0m\u001b[0my\u001b[0m\u001b[0;34m)\u001b[0m\u001b[0;34m)\u001b[0m\u001b[0;34m\u001b[0m\u001b[0m\n\u001b[0m\u001b[1;32m     23\u001b[0m \u001b[0;34m\u001b[0m\u001b[0m\n\u001b[1;32m     24\u001b[0m \u001b[0;34m\u001b[0m\u001b[0m\n",
      "\u001b[0;31mTypeError\u001b[0m: xIsIny() missing 1 required positional argument: 'y'"
     ]
    }
   ],
   "source": [
    "binarySearch(2,[1,1,1,3,4,6])"
   ]
  },
  {
   "cell_type": "code",
   "execution_count": null,
   "metadata": {
    "collapsed": true
   },
   "outputs": [],
   "source": [
    "def medianTwoSortedArrary(x,y):\n",
    "    \n",
    "    if isSorted(x) and isSorted(y):\n",
    "        N=len(x)\n",
    "        M=len(y)\n",
    "        if median(x)> median(y):\n",
    "            x,y=y,x\n",
    "        \n",
    "        if (N+M)%2:\n",
    "            \n",
    "            median(x)\n",
    "        \n",
    "        else:\n",
    "            \n",
    "            \n",
    "            \n",
    "        \n",
    "        \n",
    "    else:\n",
    "         print(\"The array is not sorted.\")\n",
    "                \n",
    "            \n",
    "    "
   ]
  }
 ],
 "metadata": {
  "kernelspec": {
   "display_name": "Python 3",
   "language": "python",
   "name": "python3"
  },
  "language_info": {
   "codemirror_mode": {
    "name": "ipython",
    "version": 3
   },
   "file_extension": ".py",
   "mimetype": "text/x-python",
   "name": "python",
   "nbconvert_exporter": "python",
   "pygments_lexer": "ipython3",
   "version": "3.5.2"
  }
 },
 "nbformat": 4,
 "nbformat_minor": 0
}
