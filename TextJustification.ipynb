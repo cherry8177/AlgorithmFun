{
 "cells": [
  {
   "cell_type": "markdown",
   "metadata": {},
   "source": [
    " # Justification using greedy algorithm\n",
    " It will fit as much as it can for the current line and then go to the next line"
   ]
  },
  {
   "cell_type": "code",
   "execution_count": 429,
   "metadata": {
    "collapsed": true
   },
   "outputs": [],
   "source": [
    " def greedyJustify(word, maxL):\n",
    "        words=word.split()\n",
    "        L=-1\n",
    "        space=[]\n",
    "        Wrap=[]\n",
    "        k=0\n",
    "        for i in words:\n",
    "            L+=len(i)+1\n",
    "            k+=1\n",
    "            if L >=maxL:\n",
    "                space.append(L-(len(i)+1))\n",
    "                L=-1\n",
    "                Wrap.append(k)\n",
    "                        \n",
    "        poem=[]\n",
    "        l=0\n",
    "        for i in Wrap:\n",
    "            poem.append(words[l:i])\n",
    "            k+=1\n",
    "            l=i\n",
    "            if i== Wrap[-1]:\n",
    "                poem.append(words[i:])\n",
    "                \n",
    "        bad=[]\n",
    "        for i in space:\n",
    "            bad.append((maxL-i)**2)\n",
    "            \n",
    "        return Wrap, poem, bad\n",
    "                \n",
    "        "
   ]
  },
  {
   "cell_type": "code",
   "execution_count": 430,
   "metadata": {
    "collapsed": false
   },
   "outputs": [
    {
     "data": {
      "text/plain": [
       "([7, 14, 21, 29, 35, 40, 48],\n",
       " [['Each', 'piece,', 'or', 'part,', 'of', 'the', 'whole'],\n",
       "  ['of', 'nature', 'is', 'always', 'merely', 'an', 'approximation'],\n",
       "  ['to', 'the', 'complete', 'truth,', 'or', 'the', 'complete'],\n",
       "  ['truth', 'so', 'far', 'as', 'we', 'know', 'it.', 'In'],\n",
       "  ['fact,', 'everything', 'we', 'know', 'is', 'only'],\n",
       "  ['some', 'kind', 'of', 'approximation', 'because'],\n",
       "  ['we', 'know', 'that', 'we', 'do', 'not', 'know', 'all'],\n",
       "  ['the', 'laws', 'as', 'yet.']],\n",
       " [9, 1, 1, 9, 9, 16, 9])"
      ]
     },
     "execution_count": 430,
     "metadata": {},
     "output_type": "execute_result"
    }
   ],
   "source": [
    "greedyJustify(word,30)\n"
   ]
  },
  {
   "cell_type": "markdown",
   "metadata": {},
   "source": [
    "# Justification using dynamic programing\n",
    "1. Define the cost function that \n",
    "\n",
    " "
   ]
  },
  {
   "cell_type": "markdown",
   "metadata": {},
   "source": [
    "$$\n",
    " C_{i} = (L-l_{i})^2\n",
    "$$\n",
    " \n",
    " if: $$ l_{i} < L $$\n",
    " else: $$ C_{i}=\\inf $$\n",
    "\n",
    "Total cost:\n",
    "\n",
    "$$ \\sum_{i} C_{i} $$\n"
   ]
  },
  {
   "cell_type": "markdown",
   "metadata": {},
   "source": [
    "2. first compute the cost from i:j for i in range(n) and j in (i+1) : n"
   ]
  },
  {
   "cell_type": "markdown",
   "metadata": {},
   "source": [
    "3. minCost[1:i]= minCost[1:j]+Cost[j+1: i]"
   ]
  },
  {
   "cell_type": "code",
   "execution_count": 65,
   "metadata": {
    "collapsed": false
   },
   "outputs": [],
   "source": [
    "words=\"And now here is my secret, a very simple secret: It is only with the heart that one can see rightly; what is essential is invisible to the eye.\"\n"
   ]
  },
  {
   "cell_type": "code",
   "execution_count": 69,
   "metadata": {
    "collapsed": false
   },
   "outputs": [
    {
     "data": {
      "text/plain": [
       "[3]"
      ]
     },
     "execution_count": 69,
     "metadata": {},
     "output_type": "execute_result"
    }
   ],
   "source": [
    "lenV=[]      #length of each word in the text\n",
    "for i in range(n):\n",
    "    lenV.append(len(words.split()[i]))\n"
   ]
  },
  {
   "cell_type": "code",
   "execution_count": 43,
   "metadata": {
    "collapsed": true
   },
   "outputs": [],
   "source": [
    " import numpy as np"
   ]
  },
  {
   "cell_type": "code",
   "execution_count": 413,
   "metadata": {
    "collapsed": false
   },
   "outputs": [],
   "source": [
    "def badness(words, maxL,p=2):\n",
    "    words=words.split()\n",
    "    n=len(words)\n",
    "    lenV=[]\n",
    "    for i in range(n):\n",
    "        lenV.append(len(words[i]))\n",
    "     \n",
    "    lenM= np.zeros([n,n])\n",
    "    for i in range(n):\n",
    "        for j in range(i,n):\n",
    "            if maxL > sum(lenV[i:j+1])+(j-i):\n",
    "                lenM[i][j]=(maxL-sum(lenV[i:j+1])-(j-i))**p\n",
    "            else:\n",
    "                lenM[i][j]= float('inf')\n",
    "    \n",
    "    for i in range(0,n):\n",
    "        for j in range (0, i):\n",
    "            lenM[i][j]=float('inf')\n",
    "    \n",
    "    return lenM\n",
    "       "
   ]
  },
  {
   "cell_type": "code",
   "execution_count": 402,
   "metadata": {
    "collapsed": true
   },
   "outputs": [],
   "source": [
    "import pandas as pd"
   ]
  },
  {
   "cell_type": "code",
   "execution_count": 403,
   "metadata": {
    "collapsed": false
   },
   "outputs": [
    {
     "data": {
      "text/html": [
       "<div>\n",
       "<table border=\"1\" class=\"dataframe\">\n",
       "  <thead>\n",
       "    <tr style=\"text-align: right;\">\n",
       "      <th></th>\n",
       "      <th>0</th>\n",
       "      <th>1</th>\n",
       "      <th>2</th>\n",
       "      <th>3</th>\n",
       "      <th>4</th>\n",
       "      <th>5</th>\n",
       "      <th>6</th>\n",
       "      <th>7</th>\n",
       "      <th>8</th>\n",
       "      <th>9</th>\n",
       "      <th>10</th>\n",
       "    </tr>\n",
       "  </thead>\n",
       "  <tbody>\n",
       "    <tr>\n",
       "      <th>0</th>\n",
       "      <td>729.000000</td>\n",
       "      <td>529.000000</td>\n",
       "      <td>324.000000</td>\n",
       "      <td>225.000000</td>\n",
       "      <td>144.000000</td>\n",
       "      <td>16.000000</td>\n",
       "      <td>4.000000</td>\n",
       "      <td>inf</td>\n",
       "      <td>inf</td>\n",
       "      <td>inf</td>\n",
       "      <td>inf</td>\n",
       "    </tr>\n",
       "    <tr>\n",
       "      <th>1</th>\n",
       "      <td>inf</td>\n",
       "      <td>729.000000</td>\n",
       "      <td>484.000000</td>\n",
       "      <td>361.000000</td>\n",
       "      <td>256.000000</td>\n",
       "      <td>64.000000</td>\n",
       "      <td>36.000000</td>\n",
       "      <td>1.000000</td>\n",
       "      <td>inf</td>\n",
       "      <td>inf</td>\n",
       "      <td>inf</td>\n",
       "    </tr>\n",
       "    <tr>\n",
       "      <th>2</th>\n",
       "      <td>inf</td>\n",
       "      <td>inf</td>\n",
       "      <td>676.000000</td>\n",
       "      <td>529.000000</td>\n",
       "      <td>400.000000</td>\n",
       "      <td>144.000000</td>\n",
       "      <td>100.000000</td>\n",
       "      <td>25.000000</td>\n",
       "      <td>inf</td>\n",
       "      <td>inf</td>\n",
       "      <td>inf</td>\n",
       "    </tr>\n",
       "    <tr>\n",
       "      <th>3</th>\n",
       "      <td>inf</td>\n",
       "      <td>inf</td>\n",
       "      <td>inf</td>\n",
       "      <td>784.000000</td>\n",
       "      <td>625.000000</td>\n",
       "      <td>289.000000</td>\n",
       "      <td>225.000000</td>\n",
       "      <td>100.000000</td>\n",
       "      <td>9.000000</td>\n",
       "      <td>inf</td>\n",
       "      <td>inf</td>\n",
       "    </tr>\n",
       "    <tr>\n",
       "      <th>4</th>\n",
       "      <td>inf</td>\n",
       "      <td>inf</td>\n",
       "      <td>inf</td>\n",
       "      <td>inf</td>\n",
       "      <td>784.000000</td>\n",
       "      <td>400.000000</td>\n",
       "      <td>324.000000</td>\n",
       "      <td>169.000000</td>\n",
       "      <td>36.000000</td>\n",
       "      <td>inf</td>\n",
       "      <td>inf</td>\n",
       "    </tr>\n",
       "    <tr>\n",
       "      <th>5</th>\n",
       "      <td>inf</td>\n",
       "      <td>inf</td>\n",
       "      <td>inf</td>\n",
       "      <td>inf</td>\n",
       "      <td>inf</td>\n",
       "      <td>529.000000</td>\n",
       "      <td>441.000000</td>\n",
       "      <td>256.000000</td>\n",
       "      <td>81.000000</td>\n",
       "      <td>1.000000</td>\n",
       "      <td>inf</td>\n",
       "    </tr>\n",
       "    <tr>\n",
       "      <th>6</th>\n",
       "      <td>inf</td>\n",
       "      <td>inf</td>\n",
       "      <td>inf</td>\n",
       "      <td>inf</td>\n",
       "      <td>inf</td>\n",
       "      <td>inf</td>\n",
       "      <td>841.000000</td>\n",
       "      <td>576.000000</td>\n",
       "      <td>289.000000</td>\n",
       "      <td>81.000000</td>\n",
       "      <td>49.000000</td>\n",
       "    </tr>\n",
       "    <tr>\n",
       "      <th>7</th>\n",
       "      <td>inf</td>\n",
       "      <td>inf</td>\n",
       "      <td>inf</td>\n",
       "      <td>inf</td>\n",
       "      <td>inf</td>\n",
       "      <td>inf</td>\n",
       "      <td>inf</td>\n",
       "      <td>676.000000</td>\n",
       "      <td>361.000000</td>\n",
       "      <td>121.000000</td>\n",
       "      <td>81.000000</td>\n",
       "    </tr>\n",
       "    <tr>\n",
       "      <th>8</th>\n",
       "      <td>inf</td>\n",
       "      <td>inf</td>\n",
       "      <td>inf</td>\n",
       "      <td>inf</td>\n",
       "      <td>inf</td>\n",
       "      <td>inf</td>\n",
       "      <td>inf</td>\n",
       "      <td>inf</td>\n",
       "      <td>576.000000</td>\n",
       "      <td>256.000000</td>\n",
       "      <td>196.000000</td>\n",
       "    </tr>\n",
       "    <tr>\n",
       "      <th>9</th>\n",
       "      <td>inf</td>\n",
       "      <td>inf</td>\n",
       "      <td>inf</td>\n",
       "      <td>inf</td>\n",
       "      <td>inf</td>\n",
       "      <td>inf</td>\n",
       "      <td>inf</td>\n",
       "      <td>inf</td>\n",
       "      <td>inf</td>\n",
       "      <td>529.000000</td>\n",
       "      <td>441.000000</td>\n",
       "    </tr>\n",
       "    <tr>\n",
       "      <th>10</th>\n",
       "      <td>inf</td>\n",
       "      <td>inf</td>\n",
       "      <td>inf</td>\n",
       "      <td>inf</td>\n",
       "      <td>inf</td>\n",
       "      <td>inf</td>\n",
       "      <td>inf</td>\n",
       "      <td>inf</td>\n",
       "      <td>inf</td>\n",
       "      <td>inf</td>\n",
       "      <td>841.000000</td>\n",
       "    </tr>\n",
       "  </tbody>\n",
       "</table>\n",
       "</div>"
      ],
      "text/plain": [
       "            0           1           2           3           4           5   \\\n",
       "0   729.000000  529.000000  324.000000  225.000000  144.000000   16.000000   \n",
       "1          inf  729.000000  484.000000  361.000000  256.000000   64.000000   \n",
       "2          inf         inf  676.000000  529.000000  400.000000  144.000000   \n",
       "3          inf         inf         inf  784.000000  625.000000  289.000000   \n",
       "4          inf         inf         inf         inf  784.000000  400.000000   \n",
       "5          inf         inf         inf         inf         inf  529.000000   \n",
       "6          inf         inf         inf         inf         inf         inf   \n",
       "7          inf         inf         inf         inf         inf         inf   \n",
       "8          inf         inf         inf         inf         inf         inf   \n",
       "9          inf         inf         inf         inf         inf         inf   \n",
       "10         inf         inf         inf         inf         inf         inf   \n",
       "\n",
       "            6           7           8           9           10  \n",
       "0     4.000000         inf         inf         inf         inf  \n",
       "1    36.000000    1.000000         inf         inf         inf  \n",
       "2   100.000000   25.000000         inf         inf         inf  \n",
       "3   225.000000  100.000000    9.000000         inf         inf  \n",
       "4   324.000000  169.000000   36.000000         inf         inf  \n",
       "5   441.000000  256.000000   81.000000    1.000000         inf  \n",
       "6   841.000000  576.000000  289.000000   81.000000   49.000000  \n",
       "7          inf  676.000000  361.000000  121.000000   81.000000  \n",
       "8          inf         inf  576.000000  256.000000  196.000000  \n",
       "9          inf         inf         inf  529.000000  441.000000  \n",
       "10         inf         inf         inf         inf  841.000000  "
      ]
     },
     "execution_count": 403,
     "metadata": {},
     "output_type": "execute_result"
    }
   ],
   "source": [
    "pd.DataFrame(badness(words[0:50],30))"
   ]
  },
  {
   "cell_type": "code",
   "execution_count": 414,
   "metadata": {
    "collapsed": false
   },
   "outputs": [],
   "source": [
    "# Dynamic programming to solve the min total cost\n",
    "def dynaJustify(words, maxL,p=2):\n",
    "    lenM=badness(words, maxL,p)\n",
    "    words=words.split()\n",
    "    \n",
    "    n=len(words)\n",
    "    minCost=[None]*(n+1)\n",
    "    minCost[0]=0\n",
    "    index=[None]*n\n",
    "    index[0]=0\n",
    "    for j in range(0,n):\n",
    "        costj=[]\n",
    "        for i in range(1,j+2):\n",
    "            costj.append((minCost[i-1]+lenM[i-1][j])) \n",
    "\n",
    "        minCost[i]= min(costj)\n",
    "        index[i-1]=np.argmin(costj)\n",
    "        #print(costj)\n",
    "\n",
    "\n",
    "    Wrap=[]\n",
    "    k=n-1\n",
    "    while(k>0):\n",
    "        Wrap.append(index[k])\n",
    "        k=index[k]-1\n",
    "    Wrap=Wrap[::-1]     \n",
    "\n",
    "    poem=[]\n",
    "    l=0\n",
    "    for i in Wrap[1:]:\n",
    "        poem.append(words[l:i])\n",
    "        k+=1\n",
    "        l=i\n",
    "        if i== Wrap[-1]:\n",
    "            poem.append(words[i:])\n",
    "    space=[]        \n",
    "    for i in poem:\n",
    "        L=0\n",
    "        for j in i:\n",
    "            L+=len(j)\n",
    "        L+=len(i)-1    \n",
    "        space.append(maxL-L)\n",
    "            \n",
    "    return  poem, space\n",
    "   \n",
    "        "
   ]
  },
  {
   "cell_type": "code",
   "execution_count": 405,
   "metadata": {
    "collapsed": false
   },
   "outputs": [
    {
     "data": {
      "text/plain": [
       "([['Each', 'piece,', 'or', 'part,', 'of', 'the'],\n",
       "  ['whole', 'of', 'nature', 'is', 'always'],\n",
       "  ['merely', 'an', 'approximation', 'to'],\n",
       "  ['the', 'complete', 'truth,', 'or', 'the'],\n",
       "  ['complete', 'truth', 'so', 'far', 'as', 'we'],\n",
       "  ['know', 'it.', 'In', 'fact,', 'everything'],\n",
       "  ['we', 'know', 'is', 'only', 'some', 'kind'],\n",
       "  ['of', 'approximation', 'because', 'we'],\n",
       "  ['know', 'that', 'we', 'do', 'not', 'know.']],\n",
       " [3, 5, 4, 4, 3, 2, 5, 3, 5])"
      ]
     },
     "execution_count": 405,
     "metadata": {},
     "output_type": "execute_result"
    }
   ],
   "source": [
    "words=\"And now here is my secret, a very simple secret: It is only with the heart that one can see rightly; what is essential is invisible to the eye.\"\n",
    "word=\"Each piece, or part, of the whole of nature is always merely an approximation to the complete truth, or the complete truth so far as we know it. In fact, everything we know is only some kind of approximation because we know that we do not know.\" \n",
    "dynaJustify(word,30)"
   ]
  },
  {
   "cell_type": "code",
   "execution_count": 415,
   "metadata": {
    "collapsed": false
   },
   "outputs": [],
   "source": [
    "#if we don't include the last line into our total cost, how can you do the best for the rest of words\n",
    "def dyJustify(word, maxL,p=2):    \n",
    "    lenM=badness(word, maxL,p)\n",
    "    words=word.split()\n",
    "    totalwords=word.split()\n",
    "    totalN=len(totalwords)\n",
    "    \n",
    "    totalL=-1\n",
    "    t=0\n",
    "    for i in words[::-1]: # t= how many words can fit in the last line   \n",
    "        totalL+=len(i)+1\n",
    "        t+=1\n",
    "        if totalL > maxL:      \n",
    "            break\n",
    "    #print(t)\n",
    "    \n",
    "    costButLastRow=[]\n",
    "    allPosssibleWrap=[]\n",
    "    r=0\n",
    "    while(t>0):          # try all the possibilities that the last line fit\n",
    "        if r>0:\n",
    "            words.pop()\n",
    "        n=len(words)\n",
    "        minCost=[None]*(n+1)\n",
    "        minCost[0]=0\n",
    "        index=[None]*n\n",
    "        index[0]=0\n",
    "        for j in range(0,n):\n",
    "            costj=[]\n",
    "            for i in range(1,j+2):\n",
    "                costj.append((minCost[i-1]+lenM[i-1][j])) \n",
    "\n",
    "            minCost[i]= min(costj)\n",
    "            index[i-1]=np.argmin(costj)\n",
    "           \n",
    "        costButLastRow.append(minCost[-1]) #record the all the cost if we try differet number of last line\n",
    "        t=t-1\n",
    "        r+=1\n",
    "        #print(t,r)\n",
    "    \n",
    "        Wrap=[]         \n",
    "        k=n-1\n",
    "        while(k>0):\n",
    "            Wrap.append(index[k])  # trace the best break\n",
    "            k=index[k]-1\n",
    "        Wrap=Wrap[::-1]\n",
    "        #if r==6:\n",
    "          #  print(minCost,Wrap, index,n)\n",
    "        allPosssibleWrap.append(Wrap)    #record all the wrap possibilities\n",
    "    #print(costButLastRow)   \n",
    "    #print(allPosssibleWrap)\n",
    "    b=np.argmin(costButLastRow)\n",
    "    #print(b)\n",
    "    Wrap=allPosssibleWrap[b]\n",
    "    \n",
    "    poem=[]                        #seperate each line as nested list\n",
    "    l=0\n",
    "    for i in Wrap[1:]:\n",
    "        poem.append(totalwords[l:i])\n",
    "        l=i\n",
    "        if i==Wrap[-1]:\n",
    "            poem.append(totalwords[i:(totalN-b-1)])\n",
    "            break\n",
    "   \n",
    "    poem.append(totalwords[-(b+1):])   #add the last line\n",
    "    \n",
    "    space=[]                      #count empty space for each line \n",
    "    for i in poem:\n",
    "        L=0\n",
    "        for j in i:\n",
    "            L+=len(j)\n",
    "        L+=len(i)-1   \n",
    "        space.append(maxL-L)\n",
    "    return Wrap, poem, space\n",
    "   \n",
    "        "
   ]
  },
  {
   "cell_type": "code",
   "execution_count": 407,
   "metadata": {
    "collapsed": false
   },
   "outputs": [
    {
     "data": {
      "text/plain": [
       "['know', 'all', 'the', 'laws', 'as', 'yet.']"
      ]
     },
     "execution_count": 407,
     "metadata": {},
     "output_type": "execute_result"
    }
   ],
   "source": [
    "word=\"Each piece, or part, of the whole of nature is always merely an approximation to the complete truth, or the complete truth so far as we know it. In fact, everything we know is only some kind of approximation because we know that we do not know all the laws as yet.\"\n",
    "word=word.split()\n",
    "word[-6:]"
   ]
  },
  {
   "cell_type": "code",
   "execution_count": 408,
   "metadata": {
    "collapsed": false
   },
   "outputs": [
    {
     "data": {
      "text/plain": [
       "([0, 7, 13, 17, 22, 30, 36, 41],\n",
       " [['Each', 'piece,', 'or', 'part,', 'of', 'the', 'whole'],\n",
       "  ['of', 'nature', 'is', 'always', 'merely', 'an'],\n",
       "  ['approximation', 'to', 'the', 'complete'],\n",
       "  ['truth,', 'or', 'the', 'complete', 'truth'],\n",
       "  ['so', 'far', 'as', 'we', 'know', 'it.', 'In', 'fact,'],\n",
       "  ['everything', 'we', 'know', 'is', 'only', 'some'],\n",
       "  ['kind', 'of', 'approximation', 'because', 'we'],\n",
       "  ['know', 'that', 'we', 'do', 'not', 'know', 'all'],\n",
       "  ['the', 'laws', 'as', 'yet.']],\n",
       " [2, 6, 6, 7, 5, 4, 3, 7, 19])"
      ]
     },
     "execution_count": 408,
     "metadata": {},
     "output_type": "execute_result"
    }
   ],
   "source": [
    "words=\"And now here is my secret, a very simple secret: It is only with the heart that one can see rightly; what is essential is invisible to the eye.\"\n",
    "word=\"Each piece, or part, of the whole of nature is always merely an approximation to the complete truth, or the complete truth so far as we know it. In fact, everything we know is only some kind of approximation because we know that we do not know all the laws as yet.\" \n",
    "dyJustify(word,35)"
   ]
  },
  {
   "cell_type": "code",
   "execution_count": 417,
   "metadata": {
    "collapsed": false
   },
   "outputs": [
    {
     "data": {
      "text/plain": [
       "([0, 7, 13, 17, 22, 30, 36, 41],\n",
       " [['Each', 'piece,', 'or', 'part,', 'of', 'the', 'whole'],\n",
       "  ['of', 'nature', 'is', 'always', 'merely', 'an'],\n",
       "  ['approximation', 'to', 'the', 'complete'],\n",
       "  ['truth,', 'or', 'the', 'complete', 'truth'],\n",
       "  ['so', 'far', 'as', 'we', 'know', 'it.', 'In', 'fact,'],\n",
       "  ['everything', 'we', 'know', 'is', 'only', 'some'],\n",
       "  ['kind', 'of', 'approximation', 'because', 'we'],\n",
       "  ['know', 'that', 'we', 'do', 'not', 'know', 'all'],\n",
       "  ['the', 'laws', 'as', 'yet.']],\n",
       " [2, 6, 6, 7, 5, 4, 3, 7, 19])"
      ]
     },
     "execution_count": 417,
     "metadata": {},
     "output_type": "execute_result"
    }
   ],
   "source": [
    "dyJustify(word,35,2)"
   ]
  },
  {
   "cell_type": "code",
   "execution_count": 418,
   "metadata": {
    "collapsed": false
   },
   "outputs": [
    {
     "data": {
      "text/plain": [
       "([0, 7, 13, 17, 22, 30, 36, 41],\n",
       " [['Each', 'piece,', 'or', 'part,', 'of', 'the', 'whole'],\n",
       "  ['of', 'nature', 'is', 'always', 'merely', 'an'],\n",
       "  ['approximation', 'to', 'the', 'complete'],\n",
       "  ['truth,', 'or', 'the', 'complete', 'truth'],\n",
       "  ['so', 'far', 'as', 'we', 'know', 'it.', 'In', 'fact,'],\n",
       "  ['everything', 'we', 'know', 'is', 'only', 'some'],\n",
       "  ['kind', 'of', 'approximation', 'because', 'we'],\n",
       "  ['know', 'that', 'we', 'do', 'not', 'know', 'all'],\n",
       "  ['the', 'laws', 'as', 'yet.']],\n",
       " [2, 6, 6, 7, 5, 4, 3, 7, 19])"
      ]
     },
     "execution_count": 418,
     "metadata": {},
     "output_type": "execute_result"
    }
   ],
   "source": [
    "dyJustify(word,35,3)"
   ]
  },
  {
   "cell_type": "code",
   "execution_count": 409,
   "metadata": {
    "collapsed": false
   },
   "outputs": [
    {
     "data": {
      "text/plain": [
       "([['Each', 'piece,', 'or', 'part,', 'of', 'the'],\n",
       "  ['whole', 'of', 'nature', 'is', 'always'],\n",
       "  ['merely', 'an', 'approximation', 'to', 'the'],\n",
       "  ['complete', 'truth,', 'or', 'the', 'complete'],\n",
       "  ['truth', 'so', 'far', 'as', 'we', 'know', 'it.'],\n",
       "  ['In', 'fact,', 'everything', 'we', 'know', 'is'],\n",
       "  ['only', 'some', 'kind', 'of', 'approximation'],\n",
       "  ['because', 'we', 'know', 'that', 'we', 'do'],\n",
       "  ['not', 'know', 'all', 'the', 'laws', 'as', 'yet.']],\n",
       " [8, 10, 5, 4, 8, 5, 4, 9, 6])"
      ]
     },
     "execution_count": 409,
     "metadata": {},
     "output_type": "execute_result"
    }
   ],
   "source": [
    "dynaJustify(word,35)"
   ]
  },
  {
   "cell_type": "code",
   "execution_count": 411,
   "metadata": {
    "collapsed": false
   },
   "outputs": [],
   "source": [
    "\n",
    "#if we don't include the last line into our total cost, how can you do the best for the rest of words\n",
    "#add space ajust \n",
    "\n",
    "def SpDyJustify(word, maxL):    \n",
    "    lenM=badness(word, maxL)\n",
    "    words=word.split()\n",
    "    totalwords=word.split()\n",
    "    totalN=len(totalwords)\n",
    "    \n",
    "    totalL=-1\n",
    "    t=0\n",
    "    for i in words[::-1]: # t= how many words can fit in the last line   \n",
    "        totalL+=len(i)+1\n",
    "        t+=1\n",
    "        if totalL > maxL:\n",
    "            break\n",
    "    #print(t)\n",
    "    \n",
    "    costButLastRow=[]\n",
    "    allPosssibleWrap=[]\n",
    "    r=0\n",
    "    while(t>0):          # try all the possibilities that the last line fit\n",
    "        if r>0:\n",
    "            words.pop()\n",
    "        n=len(words)\n",
    "        minCost=[None]*(n+1)\n",
    "        minCost[0]=0\n",
    "        index=[None]*n\n",
    "        index[0]=0\n",
    "        for j in range(0,n):\n",
    "            costj=[]\n",
    "            for i in range(1,j+2):\n",
    "                costj.append((minCost[i-1]+lenM[i-1][j])) \n",
    "\n",
    "            minCost[i]= min(costj)\n",
    "            index[i-1]=np.argmin(costj)\n",
    "           \n",
    "        costButLastRow.append(minCost[-1]) #record the all the cost if we try differet number of last line\n",
    "        t=t-1\n",
    "        r+=1\n",
    "        #print(t,r)\n",
    "    \n",
    "        Wrap=[]         \n",
    "        k=n-1\n",
    "        while(k>0):\n",
    "            Wrap.append(index[k])  # trace the best break\n",
    "            k=index[k]-1\n",
    "        Wrap=Wrap[::-1]\n",
    "        if r==6:\n",
    "            print(minCost,Wrap, index,n)\n",
    "        allPosssibleWrap.append(Wrap)    #record all the wrap possibilities\n",
    "    \n",
    "    b=np.argmin(costButLastRow)\n",
    "    Wrap=allPosssibleWrap[b]\n",
    "    \n",
    "    poem=[]               # wrap each row into a nested list\n",
    "    l=0\n",
    "    for i in Wrap[1:]:\n",
    "        poem.append(totalwords[l:i])\n",
    "        l=i\n",
    "        if i==Wrap[-1]:\n",
    "            poem.append(totalwords[i:(totalN-b-1)])\n",
    "            break\n",
    "            \n",
    "    poem.append(totalwords[-(b+1):])\n",
    "    \n",
    "    space=[]        \n",
    "    for i in poem:\n",
    "        L=0\n",
    "        for j in i:\n",
    "            L+=len(j)\n",
    "        L+=len(i)-1    \n",
    "        space.append(maxL-L)\n",
    "        \n",
    "    return Wrap, poem, space\n",
    "   \n",
    "        "
   ]
  },
  {
   "cell_type": "code",
   "execution_count": 412,
   "metadata": {
    "collapsed": false
   },
   "outputs": [
    {
     "name": "stdout",
     "output_type": "stream",
     "text": [
      "[0, 676.0, 361.0, 256.0, 100.0, 49.0, 9.0, 400.0, 325.0, 164.0, 113.0, 34.0, 360.0, 285.0, 83.0, 50.0, 385.0, 286.0, 147.0, 108.0, 66.0, 350.0, 228.0, 183.0, 133.0, 102.0, 75.0, 397.0, 309.0, 264.0, 182.0, 79.0, 373.0, 300.0, 263.0, 198.0, 179.0, 104.0, 83.0, 214.0, 140.0, 113.0, 84.0, 314.0, 263.0, 230.0, 204.0, 149.0] [0, 6, 11, 15, 20, 26, 31, 37, 40] [0, 0, 0, 0, 0, 0, 3, 4, 4, 5, 6, 9, 9, 11, 11, 13, 13, 14, 14, 15, 17, 18, 18, 19, 20, 20, 22, 22, 22, 24, 26, 28, 29, 30, 30, 31, 31, 31, 35, 37, 37, 38, 39, 39, 39, 40, 40] 47\n"
     ]
    },
    {
     "data": {
      "text/plain": [
       "([0, 6, 11, 15, 20, 26, 31, 38, 42],\n",
       " [['Each', 'piece,', 'or', 'part,', 'of', 'the'],\n",
       "  ['whole', 'of', 'nature', 'is', 'always'],\n",
       "  ['merely', 'an', 'approximation', 'to'],\n",
       "  ['the', 'complete', 'truth,', 'or', 'the'],\n",
       "  ['complete', 'truth', 'so', 'far', 'as', 'we'],\n",
       "  ['know', 'it.', 'In', 'fact,', 'everything'],\n",
       "  ['we', 'know', 'is', 'only', 'some', 'kind', 'of'],\n",
       "  ['approximation', 'because', 'we', 'know'],\n",
       "  ['that', 'we', 'do', 'not', 'know', 'all'],\n",
       "  ['the', 'laws', 'as', 'yet.']],\n",
       " [3, 5, 4, 4, 3, 2, 2, 1, 7, 14])"
      ]
     },
     "execution_count": 412,
     "metadata": {},
     "output_type": "execute_result"
    }
   ],
   "source": [
    "words=\"And now here is my secret, a very simple secret: It is only with the heart that one can see rightly; what is essential is invisible to the eye.\"\n",
    "word=\"Each piece, or part, of the whole of nature is always merely an approximation to the complete truth, or the complete truth so far as we know it. In fact, everything we know is only some kind of approximation because we know that we do not know all the laws as yet.\" \n",
    "SpDyJustify(word,30)"
   ]
  },
  {
   "cell_type": "code",
   "execution_count": null,
   "metadata": {
    "collapsed": true
   },
   "outputs": [],
   "source": []
  },
  {
   "cell_type": "code",
   "execution_count": null,
   "metadata": {
    "collapsed": true
   },
   "outputs": [],
   "source": []
  }
 ],
 "metadata": {
  "kernelspec": {
   "display_name": "Python 3",
   "language": "python",
   "name": "python3"
  },
  "language_info": {
   "codemirror_mode": {
    "name": "ipython",
    "version": 3
   },
   "file_extension": ".py",
   "mimetype": "text/x-python",
   "name": "python",
   "nbconvert_exporter": "python",
   "pygments_lexer": "ipython3",
   "version": "3.5.2"
  }
 },
 "nbformat": 4,
 "nbformat_minor": 0
}
