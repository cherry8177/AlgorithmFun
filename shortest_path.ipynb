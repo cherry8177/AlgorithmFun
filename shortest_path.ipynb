{
 "cells": [
  {
   "cell_type": "code",
   "execution_count": 43,
   "metadata": {
    "collapsed": false,
    "scrolled": true
   },
   "outputs": [
    {
     "name": "stdout",
     "output_type": "stream",
     "text": [
      "Populating the interactive namespace from numpy and matplotlib\n"
     ]
    }
   ],
   "source": [
    "import networkx as nx\n",
    "%pylab inline"
   ]
  },
  {
   "cell_type": "code",
   "execution_count": 62,
   "metadata": {
    "collapsed": true
   },
   "outputs": [],
   "source": [
    "G = nx.DiGraph()"
   ]
  },
  {
   "cell_type": "code",
   "execution_count": 106,
   "metadata": {
    "collapsed": true
   },
   "outputs": [],
   "source": [
    "G.add_edge('a','b',weight=0.6)\n",
    "G.add_edge('a','c',weight=0.2)\n",
    "G.add_edge('b','d',weight=-2.0)\n",
    "G.add_edge('b','e',weight=0.7)\n",
    "G.add_edge('e','f',weight=0.9)\n",
    "G.add_edge('c','d',weight=0.3)\n",
    "G.add_edge('b','f',weight=2.0)\n",
    "G.add_edge('d', 'f', weight=0.5)\n",
    "\n",
    "# G.add_edge('d','f',weight=0.2)\n",
    "\n"
   ]
  },
  {
   "cell_type": "code",
   "execution_count": 54,
   "metadata": {
    "collapsed": false
   },
   "outputs": [],
   "source": [
    "pos= nx.spring_layout(G) # positions for all nodes\n",
    "\n",
    "pos['a'] = np.array([0, 1])\n",
    "pos['f']  = np.array([1,0])"
   ]
  },
  {
   "cell_type": "code",
   "execution_count": 55,
   "metadata": {
    "collapsed": false
   },
   "outputs": [
    {
     "data": {
      "text/plain": [
       "['a', 'e', 'f', 'b', 'c', 'd']"
      ]
     },
     "execution_count": 55,
     "metadata": {},
     "output_type": "execute_result"
    }
   ],
   "source": [
    "G.nodes()"
   ]
  },
  {
   "cell_type": "code",
   "execution_count": 56,
   "metadata": {
    "collapsed": false,
    "scrolled": true
   },
   "outputs": [
    {
     "data": {
      "text/plain": [
       "[('a', 'b'),\n",
       " ('a', 'c'),\n",
       " ('e', 'f'),\n",
       " ('b', 'd'),\n",
       " ('b', 'f'),\n",
       " ('b', 'e'),\n",
       " ('c', 'd'),\n",
       " ('d', 'f')]"
      ]
     },
     "execution_count": 56,
     "metadata": {},
     "output_type": "execute_result"
    }
   ],
   "source": [
    "G.edges()"
   ]
  },
  {
   "cell_type": "code",
   "execution_count": 57,
   "metadata": {
    "collapsed": false,
    "scrolled": true
   },
   "outputs": [
    {
     "data": {
      "image/png": "[encoded data removed]",
      "text/plain": [
       "<matplotlib.figure.Figure at 0x1100db3c8>"
      ]
     },
     "metadata": {},
     "output_type": "display_data"
    }
   ],
   "source": [
    "plt.axis('off')\n",
    "nx.draw_networkx_nodes(G,pos,node_size=700)\n",
    "\n",
    "# edges\n",
    "nx.draw_networkx_edges(G,pos)\n",
    "nx.draw_networkx_edges(G,pos, alpha=0.5,edge_color='b',style='dashed')\n",
    "\n",
    "# labels\n",
    "nx.draw_networkx_labels(G,pos,font_size=20,font_family='sans-serif');\n"
   ]
  },
  {
   "cell_type": "code",
   "execution_count": 103,
   "metadata": {
    "collapsed": false
   },
   "outputs": [],
   "source": [
    "def belman_ford(G, source = 'a', sink='f'):\n",
    "    \"\"\"\n",
    "    vertices: list of vertices\n",
    "    edges: list of edges with accompanying weights\n",
    "    source: Starting point for the graph\n",
    "    \"\"\"\n",
    "    vertices = G.nodes()\n",
    "    vertices=[source]+[i for i in vertices if i != source]\n",
    "    dis=dict()\n",
    "    parents=dict()\n",
    "    \n",
    "    for V in vertices:\n",
    "        dis[V]=1000\n",
    "        \n",
    "    dis[source]=0\n",
    "    \n",
    "    \n",
    "    for V in vertices:\n",
    "        for U in G[V]:\n",
    "            if (dis[V]+G[V][U]['weight']) < dis[U]:\n",
    "                parents[U]=V\n",
    "            dis[U]=min(dis[V]+G[V][U]['weight'], dis[U])\n",
    "            \n",
    "    parents[source]=source\n",
    "    path=[]\n",
    "    sink1=sink\n",
    "#     n=len(vertices)\n",
    "#     vertices.remove(source)\n",
    "    \n",
    "#     while(n>1):\n",
    "#         for V in vertices:\n",
    "#             if V== parents[sink1]:\n",
    "#                 path=path+[V]\n",
    "#                 sink1=V\n",
    "#         n=n-1\n",
    "               \n",
    "    while( sink1 != source):\n",
    "        for V in vertices:\n",
    "            if V== parents[sink1]:\n",
    "                path=path+[V]\n",
    "                sink1=V\n",
    "    \n",
    "    path=path[::-1]\n",
    "    return dis[sink], path"
   ]
  },
  {
   "cell_type": "code",
   "execution_count": 104,
   "metadata": {
    "collapsed": false
   },
   "outputs": [
    {
     "data": {
      "text/plain": [
       "(-0.8999999999999999, ['a', 'b', 'd'])"
      ]
     },
     "execution_count": 104,
     "metadata": {},
     "output_type": "execute_result"
    }
   ],
   "source": [
    "belman_ford(G,\"a\",'f')"
   ]
  },
  {
   "cell_type": "code",
   "execution_count": 88,
   "metadata": {
    "collapsed": false
   },
   "outputs": [
    {
     "data": {
      "text/plain": [
       "(['a', 'e', 'f', 'b', 'c', 'd'],\n",
       " [('a', 'b'),\n",
       "  ('a', 'c'),\n",
       "  ('e', 'f'),\n",
       "  ('b', 'd'),\n",
       "  ('b', 'f'),\n",
       "  ('b', 'e'),\n",
       "  ('c', 'd'),\n",
       "  ('d', 'f')])"
      ]
     },
     "execution_count": 88,
     "metadata": {},
     "output_type": "execute_result"
    }
   ],
   "source": [
    "vertices = G.nodes()\n",
    "edges = G.edges()\n",
    "vertices, edges"
   ]
  },
  {
   "cell_type": "code",
   "execution_count": 115,
   "metadata": {
    "collapsed": false
   },
   "outputs": [
    {
     "data": {
      "text/plain": [
       "0.6"
      ]
     },
     "execution_count": 115,
     "metadata": {},
     "output_type": "execute_result"
    }
   ],
   "source": [
    "G['a']['b']['weight']"
   ]
  },
  {
   "cell_type": "code",
   "execution_count": 109,
   "metadata": {
    "collapsed": false
   },
   "outputs": [
    {
     "data": {
      "text/plain": [
       "dict"
      ]
     },
     "execution_count": 109,
     "metadata": {},
     "output_type": "execute_result"
    }
   ],
   "source": [
    "type(G['a'])"
   ]
  },
  {
   "cell_type": "code",
   "execution_count": null,
   "metadata": {
    "collapsed": true
   },
   "outputs": [],
   "source": [
    "G."
   ]
  },
  {
   "cell_type": "code",
   "execution_count": 110,
   "metadata": {
    "collapsed": false
   },
   "outputs": [
    {
     "data": {
      "text/plain": [
       "networkx.classes.digraph.DiGraph"
      ]
     },
     "execution_count": 110,
     "metadata": {},
     "output_type": "execute_result"
    }
   ],
   "source": [
    "type(G)"
   ]
  },
  {
   "cell_type": "code",
   "execution_count": 28,
   "metadata": {
    "collapsed": false
   },
   "outputs": [
    {
     "data": {
      "text/plain": [
       "['a', 'e', 'f', 'b', 'c', 'd']"
      ]
     },
     "execution_count": 28,
     "metadata": {},
     "output_type": "execute_result"
    }
   ],
   "source": [
    "vertices"
   ]
  }
 ],
 "metadata": {
  "_draft": {
   "nbviewer_url": "https://gist.github.com/db43bb25e615ef9c332f4c1716371dd5"
  },
  "gist": {
   "data": {
    "description": "dag_startercode",
    "public": false
   },
   "id": "db43bb25e615ef9c332f4c1716371dd5"
  },
  "kernelspec": {
   "display_name": "Python 3",
   "language": "python",
   "name": "python3"
  },
  "language_info": {
   "codemirror_mode": {
    "name": "ipython",
    "version": 3
   },
   "file_extension": ".py",
   "mimetype": "text/x-python",
   "name": "python",
   "nbconvert_exporter": "python",
   "pygments_lexer": "ipython3",
   "version": "3.5.2"
  }
 },
 "nbformat": 4,
 "nbformat_minor": 0
}
